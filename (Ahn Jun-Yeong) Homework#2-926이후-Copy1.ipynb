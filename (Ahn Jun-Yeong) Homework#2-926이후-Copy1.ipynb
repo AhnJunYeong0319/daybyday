{
 "cells": [
  {
   "cell_type": "code",
   "execution_count": null,
   "metadata": {},
   "outputs": [],
   "source": []
  },
  {
   "cell_type": "code",
   "execution_count": 2,
   "metadata": {},
   "outputs": [],
   "source": [
    "#import packages\n",
    "import pandas as pd\n",
    "import numpy as np\n",
    "import matplotlib.pyplot as plt\n",
    "from glob import glob\n",
    "import seaborn as sns"
   ]
  },
  {
   "cell_type": "code",
   "execution_count": 3,
   "metadata": {},
   "outputs": [
    {
     "data": {
      "text/html": [
       "<div>\n",
       "<style scoped>\n",
       "    .dataframe tbody tr th:only-of-type {\n",
       "        vertical-align: middle;\n",
       "    }\n",
       "\n",
       "    .dataframe tbody tr th {\n",
       "        vertical-align: top;\n",
       "    }\n",
       "\n",
       "    .dataframe thead th {\n",
       "        text-align: right;\n",
       "    }\n",
       "</style>\n",
       "<table border=\"1\" class=\"dataframe\">\n",
       "  <thead>\n",
       "    <tr style=\"text-align: right;\">\n",
       "      <th></th>\n",
       "      <th>Trial</th>\n",
       "      <th>ObjID</th>\n",
       "      <th>LocID</th>\n",
       "      <th>FB</th>\n",
       "      <th>Task</th>\n",
       "      <th>RT</th>\n",
       "      <th>Stim</th>\n",
       "    </tr>\n",
       "  </thead>\n",
       "  <tbody>\n",
       "    <tr>\n",
       "      <th>0</th>\n",
       "      <td>1</td>\n",
       "      <td>44</td>\n",
       "      <td>3</td>\n",
       "      <td>1</td>\n",
       "      <td>-2</td>\n",
       "      <td>1500</td>\n",
       "      <td>4015</td>\n",
       "    </tr>\n",
       "    <tr>\n",
       "      <th>1</th>\n",
       "      <td>2</td>\n",
       "      <td>126</td>\n",
       "      <td>1</td>\n",
       "      <td>1</td>\n",
       "      <td>-2</td>\n",
       "      <td>1500</td>\n",
       "      <td>10027</td>\n",
       "    </tr>\n",
       "    <tr>\n",
       "      <th>2</th>\n",
       "      <td>3</td>\n",
       "      <td>185</td>\n",
       "      <td>2</td>\n",
       "      <td>1</td>\n",
       "      <td>-2</td>\n",
       "      <td>1283</td>\n",
       "      <td>16025</td>\n",
       "    </tr>\n",
       "    <tr>\n",
       "      <th>3</th>\n",
       "      <td>4</td>\n",
       "      <td>86</td>\n",
       "      <td>4</td>\n",
       "      <td>1</td>\n",
       "      <td>-2</td>\n",
       "      <td>632</td>\n",
       "      <td>24023</td>\n",
       "    </tr>\n",
       "    <tr>\n",
       "      <th>4</th>\n",
       "      <td>5</td>\n",
       "      <td>137</td>\n",
       "      <td>2</td>\n",
       "      <td>1</td>\n",
       "      <td>-2</td>\n",
       "      <td>965</td>\n",
       "      <td>32021</td>\n",
       "    </tr>\n",
       "    <tr>\n",
       "      <th>...</th>\n",
       "      <td>...</td>\n",
       "      <td>...</td>\n",
       "      <td>...</td>\n",
       "      <td>...</td>\n",
       "      <td>...</td>\n",
       "      <td>...</td>\n",
       "      <td>...</td>\n",
       "    </tr>\n",
       "    <tr>\n",
       "      <th>259</th>\n",
       "      <td>260</td>\n",
       "      <td>199</td>\n",
       "      <td>4</td>\n",
       "      <td>1</td>\n",
       "      <td>-1</td>\n",
       "      <td>616</td>\n",
       "      <td>695931</td>\n",
       "    </tr>\n",
       "    <tr>\n",
       "      <th>260</th>\n",
       "      <td>261</td>\n",
       "      <td>250</td>\n",
       "      <td>3</td>\n",
       "      <td>1</td>\n",
       "      <td>-1</td>\n",
       "      <td>1015</td>\n",
       "      <td>701930</td>\n",
       "    </tr>\n",
       "    <tr>\n",
       "      <th>261</th>\n",
       "      <td>262</td>\n",
       "      <td>4</td>\n",
       "      <td>2</td>\n",
       "      <td>1</td>\n",
       "      <td>-1</td>\n",
       "      <td>615</td>\n",
       "      <td>709928</td>\n",
       "    </tr>\n",
       "    <tr>\n",
       "      <th>262</th>\n",
       "      <td>263</td>\n",
       "      <td>128</td>\n",
       "      <td>4</td>\n",
       "      <td>1</td>\n",
       "      <td>-1</td>\n",
       "      <td>750</td>\n",
       "      <td>715925</td>\n",
       "    </tr>\n",
       "    <tr>\n",
       "      <th>263</th>\n",
       "      <td>264</td>\n",
       "      <td>6</td>\n",
       "      <td>1</td>\n",
       "      <td>1</td>\n",
       "      <td>-1</td>\n",
       "      <td>715</td>\n",
       "      <td>721924</td>\n",
       "    </tr>\n",
       "  </tbody>\n",
       "</table>\n",
       "<p>264 rows × 7 columns</p>\n",
       "</div>"
      ],
      "text/plain": [
       "     Trial  ObjID  LocID  FB  Task    RT    Stim\n",
       "0        1     44      3   1    -2  1500    4015\n",
       "1        2    126      1   1    -2  1500   10027\n",
       "2        3    185      2   1    -2  1283   16025\n",
       "3        4     86      4   1    -2   632   24023\n",
       "4        5    137      2   1    -2   965   32021\n",
       "..     ...    ...    ...  ..   ...   ...     ...\n",
       "259    260    199      4   1    -1   616  695931\n",
       "260    261    250      3   1    -1  1015  701930\n",
       "261    262      4      2   1    -1   615  709928\n",
       "262    263    128      4   1    -1   750  715925\n",
       "263    264      6      1   1    -1   715  721924\n",
       "\n",
       "[264 rows x 7 columns]"
      ]
     },
     "metadata": {},
     "output_type": "display_data"
    },
    {
     "name": "stdout",
     "output_type": "stream",
     "text": [
      "     Trial  Object_ID  Task_Type  Stim_onset1   RT1  Res1  Stim_onset2   RT2  \\\n",
      "0        1        213          0         1006  2224     1         4966   565   \n",
      "1        2        236          1         6664   761     4            0     0   \n",
      "2        3         35          0        10176   329     1        12240   365   \n",
      "3        4        217          0        13621   828     1        16185  1630   \n",
      "4        5        128          0        18948   795     1        21478   514   \n",
      "..     ...        ...        ...          ...   ...   ...          ...   ...   \n",
      "523    524        146          0      1780321   245     1      1782302   182   \n",
      "524    525        189          1      1783617   395     4            0     0   \n",
      "525    526         10          1      1786763   612     4            0     0   \n",
      "526    527        160          1      1790125   528     4            0     0   \n",
      "527    528        170          1      1793404   312     4            0     0   \n",
      "\n",
      "     Res2  \n",
      "0       4  \n",
      "1       0  \n",
      "2       5  \n",
      "3       3  \n",
      "4       2  \n",
      "..    ...  \n",
      "523     1  \n",
      "524     0  \n",
      "525     0  \n",
      "526     0  \n",
      "527     0  \n",
      "\n",
      "[528 rows x 9 columns]\n"
     ]
    }
   ],
   "source": [
    "#Now the 'k'th subject's data will be pasted on study(or test)_list['k'] \n",
    "\n",
    "study_list = [None]\n",
    "test_list = [None]\n",
    "\n",
    "for l in range(31):\n",
    "    if l <= 8:\n",
    "        study_list.append(pd.read_csv('./DMdata/DM0{}/DM0{}_study.txt'.format(l+1,l+1), sep = \"\\t\", engine='python', encoding = \"cp949\", index_col = False))\n",
    "    else :\n",
    "        study_list.append(pd.read_csv('./DMdata/DM{}/DM{}_study.txt'.format(l+1,l+1), sep = \"\\t\", engine='python', encoding = \"cp949\", index_col = False))\n",
    "\n",
    "for k in range(31):\n",
    "    if k <= 8:\n",
    "        test_list.append(pd.read_csv('./DMdata/DM0{}/DM0{}_test.txt'.format(k+1,k+1), sep = \"\\t\", engine='python', encoding = \"cp949\", index_col = False))\n",
    "    else :\n",
    "        test_list.append(pd.read_csv('./DMdata/DM{}/DM{}_test.txt'.format(k+1,k+1), sep = \"\\t\", engine='python', encoding = \"cp949\", index_col = False))\n",
    "\n",
    "#display the 2nd subject's study data\n",
    "display(study_list[2])\n",
    "#print the 17th subject's test data\n",
    "print(test_list[17])"
   ]
  },
  {
   "cell_type": "code",
   "execution_count": 4,
   "metadata": {},
   "outputs": [
    {
     "name": "stdout",
     "output_type": "stream",
     "text": [
      "     Trial  Object_ID  Task_Type  Stim_onset1   RT1  Res1  Stim_onset2   RT2  \\\n",
      "0        1         72          1         1017  3863     2            0     0   \n",
      "1        2        122          1         7632  3480     4            0     0   \n",
      "2        3        114          1        13866  1264     3            0     0   \n",
      "3        4        108          0        17882  1464     1        21083  3549   \n",
      "4        5        145          0        25765  1631     1        29133  1032   \n",
      "..     ...        ...        ...          ...   ...   ...          ...   ...   \n",
      "523    524         93          1      2369157   597     3            0     0   \n",
      "524    525        144          1      2372507  3264     3            0     0   \n",
      "525    526        164          0      2378523   714     1      2380975   615   \n",
      "526    527         98          0      2382607   631     1      2384975   398   \n",
      "527    528         51          0      2386507   764     1      2389008  2565   \n",
      "\n",
      "     Res2 Res_Type  \n",
      "0       0  MISS-HC  \n",
      "1       0    CR-HC  \n",
      "2       0    FA-LC  \n",
      "3       3   HIT-HC  \n",
      "4       3   HIT-HC  \n",
      "..    ...      ...  \n",
      "523     0    FA-LC  \n",
      "524     0    FA-LC  \n",
      "525     5   HIT-HC  \n",
      "526     1   HIT-HC  \n",
      "527     4   HIT-HC  \n",
      "\n",
      "[528 rows x 10 columns]\n",
      "     Trial  Object_ID  Task_Type  Stim_onset1   RT1  Res1  Stim_onset2   RT2  \\\n",
      "0        1         56          0         1005  3114     1         5855  1532   \n",
      "1        2         70          0         8520  1631     1        11888  1865   \n",
      "2        3        195          1        14887  1231     1            0     0   \n",
      "3        4        142          1        18870  1998     4            0     0   \n",
      "4        5        264          1        23620  1098     4            0     0   \n",
      "..     ...        ...        ...          ...   ...   ...          ...   ...   \n",
      "523    524         95          1      2125117   764     3            0     0   \n",
      "524    525         82          0      2128634   463     2      2130835   682   \n",
      "525    526        186          1      2132651   547     1            0     0   \n",
      "526    527        131          0      2135951   364     1      2138052   882   \n",
      "527    528         51          1      2140067   580     2            0     0   \n",
      "\n",
      "     Res2 Res_Type  \n",
      "0       2   HIT-HC  \n",
      "1       4   HIT-HC  \n",
      "2       0   HIT-LC  \n",
      "3       0    CR-HC  \n",
      "4       0    CR-HC  \n",
      "..    ...      ...  \n",
      "523     0    FA-LC  \n",
      "524     2  MISS-LC  \n",
      "525     0   HIT-LC  \n",
      "526     3   HIT-HC  \n",
      "527     0  MISS-HC  \n",
      "\n",
      "[528 rows x 10 columns]\n"
     ]
    }
   ],
   "source": [
    "conditions = [None]\n",
    "\n",
    "values = ['HIT-HC', 'HIT-LC', 'MISS-LC', 'MISS-HC', 'FA-HC', 'FA-LC', 'CR-LC', 'CR-HC']\n",
    "for h in range(31):\n",
    "    conditions.append([(test_list[h+1]['Task_Type']==a) & (test_list[h+1]['Res1']==b) for b in range(1,5) for a in range(2)])\n",
    "\n",
    "for i in range(31):\n",
    "    test_list[i+1][\"Res_Type\"]= np.select(conditions[i+1], values)\n",
    "    \n",
    "print(test_list[1])\n",
    "\n",
    "print(test_list[2])"
   ]
  },
  {
   "cell_type": "code",
   "execution_count": 45,
   "metadata": {},
   "outputs": [
    {
     "data": {
      "text/html": [
       "<div>\n",
       "<style scoped>\n",
       "    .dataframe tbody tr th:only-of-type {\n",
       "        vertical-align: middle;\n",
       "    }\n",
       "\n",
       "    .dataframe tbody tr th {\n",
       "        vertical-align: top;\n",
       "    }\n",
       "\n",
       "    .dataframe thead th {\n",
       "        text-align: right;\n",
       "    }\n",
       "</style>\n",
       "<table border=\"1\" class=\"dataframe\">\n",
       "  <thead>\n",
       "    <tr style=\"text-align: right;\">\n",
       "      <th></th>\n",
       "      <th>Res Type</th>\n",
       "      <th>Memory Scores</th>\n",
       "    </tr>\n",
       "  </thead>\n",
       "  <tbody>\n",
       "    <tr>\n",
       "      <th>0</th>\n",
       "      <td>HIT-HC</td>\n",
       "      <td>0.716599</td>\n",
       "    </tr>\n",
       "    <tr>\n",
       "      <th>1</th>\n",
       "      <td>HIT-LC</td>\n",
       "      <td>0.032389</td>\n",
       "    </tr>\n",
       "    <tr>\n",
       "      <th>2</th>\n",
       "      <td>MISS-LC</td>\n",
       "      <td>0.149798</td>\n",
       "    </tr>\n",
       "    <tr>\n",
       "      <th>3</th>\n",
       "      <td>MISS-HC</td>\n",
       "      <td>0.101215</td>\n",
       "    </tr>\n",
       "    <tr>\n",
       "      <th>4</th>\n",
       "      <td>FA-HC</td>\n",
       "      <td>0.099644</td>\n",
       "    </tr>\n",
       "    <tr>\n",
       "      <th>5</th>\n",
       "      <td>FA-LC</td>\n",
       "      <td>0.323843</td>\n",
       "    </tr>\n",
       "    <tr>\n",
       "      <th>6</th>\n",
       "      <td>CR-LC</td>\n",
       "      <td>0.078292</td>\n",
       "    </tr>\n",
       "    <tr>\n",
       "      <th>7</th>\n",
       "      <td>CR-HC</td>\n",
       "      <td>0.498221</td>\n",
       "    </tr>\n",
       "  </tbody>\n",
       "</table>\n",
       "</div>"
      ],
      "text/plain": [
       "  Res Type  Memory Scores\n",
       "0   HIT-HC       0.716599\n",
       "1   HIT-LC       0.032389\n",
       "2  MISS-LC       0.149798\n",
       "3  MISS-HC       0.101215\n",
       "4    FA-HC       0.099644\n",
       "5    FA-LC       0.323843\n",
       "6    CR-LC       0.078292\n",
       "7    CR-HC       0.498221"
      ]
     },
     "execution_count": 45,
     "metadata": {},
     "output_type": "execute_result"
    }
   ],
   "source": [
    "##31 subject's res_type data\n",
    "\n",
    "HitnMiss = values[:4]\n",
    "CRnFA = values[4:]\n",
    "MScores = [None]\n",
    "\n",
    "for k in range(1,32):\n",
    "    old = test_list[k][test_list[k]['Res_Type'].isin(HitnMiss)]['Res_Type'].value_counts(normalize=True)\n",
    "    new = test_list[k][test_list[k]['Res_Type'].isin(CRnFA)]['Res_Type'].value_counts(normalize=True)\n",
    "    df = pd.concat([old,new], axis = 0)\n",
    "    X = pd.Series(df, name=\"Memory Scores\").to_frame()\n",
    "    X.index.name = 'Res Type'\n",
    "    Y = X.reindex(index=values)\n",
    "    MScores.append(Y.reset_index())\n",
    "    "
   ]
  },
  {
   "cell_type": "markdown",
   "metadata": {},
   "source": [
    "Define some functions"
   ]
  },
  {
   "cell_type": "code",
   "execution_count": 30,
   "metadata": {},
   "outputs": [
    {
     "data": {
      "text/plain": [
       "0    0.504065\n",
       "1    0.060976\n",
       "2    0.231707\n",
       "3    0.203252\n",
       "4    0.063830\n",
       "5    0.099291\n",
       "6    0.230496\n",
       "7    0.606383\n",
       "Name: Memory Scores, dtype: float64"
      ]
     },
     "execution_count": 30,
     "metadata": {},
     "output_type": "execute_result"
    }
   ],
   "source": [
    "def subject_MScore(id):\n",
    "    return MScores[id]\n",
    "\n",
    "subject_MScore(5)"
   ]
  },
  {
   "cell_type": "code",
   "execution_count": 15,
   "metadata": {},
   "outputs": [
    {
     "data": {
      "image/png": "[encoded data removed]",
      "text/plain": [
       "<Figure size 432x288 with 1 Axes>"
      ]
     },
     "metadata": {
      "needs_background": "light"
     },
     "output_type": "display_data"
    }
   ],
   "source": [
    "def subject_MScore_bar(id):\n",
    "    plt.bar(MScores[id].index, MScores[id]['Memory Scores'])\n",
    "\n",
    "subject_MScore_bar(21)\n",
    "    "
   ]
  },
  {
   "cell_type": "markdown",
   "metadata": {},
   "source": [
    "Memory Scores\n",
    "\n",
    "-plotting the mean and std of entire subject data"
   ]
  },
  {
   "cell_type": "code",
   "execution_count": 85,
   "metadata": {},
   "outputs": [
    {
     "data": {
      "text/html": [
       "<div>\n",
       "<style scoped>\n",
       "    .dataframe tbody tr th:only-of-type {\n",
       "        vertical-align: middle;\n",
       "    }\n",
       "\n",
       "    .dataframe tbody tr th {\n",
       "        vertical-align: top;\n",
       "    }\n",
       "\n",
       "    .dataframe thead th {\n",
       "        text-align: right;\n",
       "    }\n",
       "</style>\n",
       "<table border=\"1\" class=\"dataframe\">\n",
       "  <thead>\n",
       "    <tr style=\"text-align: right;\">\n",
       "      <th></th>\n",
       "      <th>Res Type</th>\n",
       "      <th>Memory Scores</th>\n",
       "      <th>Task Type</th>\n",
       "    </tr>\n",
       "  </thead>\n",
       "  <tbody>\n",
       "    <tr>\n",
       "      <th>0</th>\n",
       "      <td>HIT-HC</td>\n",
       "      <td>0.716599</td>\n",
       "      <td>Old</td>\n",
       "    </tr>\n",
       "    <tr>\n",
       "      <th>1</th>\n",
       "      <td>HIT-LC</td>\n",
       "      <td>0.032389</td>\n",
       "      <td>Old</td>\n",
       "    </tr>\n",
       "    <tr>\n",
       "      <th>2</th>\n",
       "      <td>MISS-LC</td>\n",
       "      <td>0.149798</td>\n",
       "      <td>Old</td>\n",
       "    </tr>\n",
       "    <tr>\n",
       "      <th>3</th>\n",
       "      <td>MISS-HC</td>\n",
       "      <td>0.101215</td>\n",
       "      <td>Old</td>\n",
       "    </tr>\n",
       "    <tr>\n",
       "      <th>4</th>\n",
       "      <td>FA-HC</td>\n",
       "      <td>0.099644</td>\n",
       "      <td>New</td>\n",
       "    </tr>\n",
       "  </tbody>\n",
       "</table>\n",
       "</div>"
      ],
      "text/plain": [
       "  Res Type  Memory Scores Task Type\n",
       "0   HIT-HC       0.716599       Old\n",
       "1   HIT-LC       0.032389       Old\n",
       "2  MISS-LC       0.149798       Old\n",
       "3  MISS-HC       0.101215       Old\n",
       "4    FA-HC       0.099644       New"
      ]
     },
     "execution_count": 85,
     "metadata": {},
     "output_type": "execute_result"
    }
   ],
   "source": [
    "tmp = [subject_MScore(i) for i in range(1,32)]\n",
    "Bulk = pd.concat(tmp)\n",
    "Bulk[\"Task Type\"] = Bulk[\"Res Type\"].isin(HitnMiss)\n",
    "Bulk['Task Type'] = Bulk['Task Type'].replace([True],'Old')\n",
    "Bulk['Task Type'] = Bulk['Task Type'].replace([False],'New')"
   ]
  },
  {
   "cell_type": "code",
   "execution_count": 67,
   "metadata": {},
   "outputs": [
    {
     "name": "stdout",
     "output_type": "stream",
     "text": [
      "  Res Type  Memory Scores\n",
      "0   HIT-HC       0.515607\n",
      "1   HIT-LC       0.069818\n",
      "2  MISS-LC       0.239674\n",
      "3  MISS-HC       0.181658\n",
      "4    FA-HC       0.186274\n",
      "5    FA-LC       0.329669\n",
      "6    CR-LC       0.123665\n",
      "7    CR-HC       0.360392\n",
      "  Res Type  Memory Scores\n",
      "0   HIT-HC       0.515607\n",
      "1   HIT-LC       0.069818\n",
      "2  MISS-LC       0.239674\n",
      "3  MISS-HC       0.181658\n",
      "4    FA-HC       0.186274\n",
      "5    FA-LC       0.329669\n",
      "6    CR-LC       0.123665\n",
      "7    CR-HC       0.360392\n"
     ]
    }
   ],
   "source": [
    "#### concatenate 31 subject data horizontally to plot the mean and std plot\n",
    "\n",
    "'''''tmp = [subject_MScore(i)['Memory Scores'] for i in range(1,32)]\n",
    "\n",
    "entire_data = pd.concat(tmp, axis = 1)\n",
    "mean_MScores = entire_data.mean(axis = 1)\n",
    "X = pd.Series(mean_MScores, name=\"Memory Scores\").to_frame()\n",
    "X['Res Type'] =  values\n",
    "X = X[['Res Type', 'Memory Scores']]\n",
    "print(X)\n",
    "\n",
    "\n",
    "std_MScores = entire_data.std(axis = 1)\n",
    "Y = pd.Series(mean_MScores, name=\"Memory Scores\").to_frame()\n",
    "Y['Res Type'] =  values\n",
    "Y = Y[['Res Type', 'Memory Scores']]\n",
    "print(Y)'''''\n"
   ]
  },
  {
   "cell_type": "markdown",
   "metadata": {},
   "source": [
    "version 1"
   ]
  },
  {
   "cell_type": "code",
   "execution_count": 62,
   "metadata": {
    "scrolled": true
   },
   "outputs": [
    {
     "data": {
      "text/plain": [
       "Text(0, 0.5, 'Response rate')"
      ]
     },
     "execution_count": 62,
     "metadata": {},
     "output_type": "execute_result"
    },
    {
     "data": {
      "image/png": "[encoded data removed]",
      "text/plain": [
       "<Figure size 432x288 with 1 Axes>"
      ]
     },
     "metadata": {
      "needs_background": "light"
     },
     "output_type": "display_data"
    }
   ],
   "source": [
    "fig, ax = plt.subplots()\n",
    "mean_MScores.plot(kind='bar', ax=ax, yerr=std_MScores, capsize = 2)\n",
    "plt.ylabel('Response rate')"
   ]
  },
  {
   "cell_type": "markdown",
   "metadata": {},
   "source": [
    "version 2"
   ]
  },
  {
   "cell_type": "code",
   "execution_count": 63,
   "metadata": {
    "scrolled": true
   },
   "outputs": [
    {
     "data": {
      "text/plain": [
       "Text(0, 0.5, 'Response rate')"
      ]
     },
     "execution_count": 63,
     "metadata": {},
     "output_type": "execute_result"
    },
    {
     "data": {
      "image/png": "[encoded data removed]",
      "text/plain": [
       "<Figure size 432x288 with 1 Axes>"
      ]
     },
     "metadata": {
      "needs_background": "light"
     },
     "output_type": "display_data"
    }
   ],
   "source": [
    "mean_MScores.plot(kind='bar', yerr=std_MScores, capsize = 2)\n",
    "plt.ylabel('Response rate')"
   ]
  },
  {
   "cell_type": "markdown",
   "metadata": {},
   "source": [
    "Memory Scores\n",
    "\n",
    "-plotting the source memory correct rate of entire subject data"
   ]
  },
  {
   "cell_type": "markdown",
   "metadata": {},
   "source": [
    "version 3"
   ]
  },
  {
   "cell_type": "code",
   "execution_count": 91,
   "metadata": {},
   "outputs": [
    {
     "data": {
      "image/png": "[encoded data removed]",
      "text/plain": [
       "<Figure size 432x288 with 1 Axes>"
      ]
     },
     "metadata": {
      "needs_background": "light"
     },
     "output_type": "display_data"
    }
   ],
   "source": [
    "palette ={\"Old\": \"gray\", \"New\": \"white\"}\n",
    "ax = sns.barplot(x=\"Res Type\", y=\"Memory Scores\", hue=\"Task Type\", data=Bulk, palette = palette, dodge=False, edgecolor='k')\n"
   ]
  },
  {
   "cell_type": "code",
   "execution_count": null,
   "metadata": {},
   "outputs": [],
   "source": []
  },
  {
   "cell_type": "code",
   "execution_count": 10,
   "metadata": {},
   "outputs": [],
   "source": [
    "#### source memory correct rate"
   ]
  },
  {
   "cell_type": "code",
   "execution_count": null,
   "metadata": {},
   "outputs": [],
   "source": []
  },
  {
   "cell_type": "code",
   "execution_count": null,
   "metadata": {},
   "outputs": [],
   "source": []
  },
  {
   "cell_type": "code",
   "execution_count": null,
   "metadata": {},
   "outputs": [],
   "source": []
  },
  {
   "cell_type": "code",
   "execution_count": null,
   "metadata": {},
   "outputs": [],
   "source": []
  },
  {
   "cell_type": "code",
   "execution_count": null,
   "metadata": {},
   "outputs": [],
   "source": []
  },
  {
   "cell_type": "code",
   "execution_count": null,
   "metadata": {},
   "outputs": [],
   "source": []
  },
  {
   "cell_type": "code",
   "execution_count": null,
   "metadata": {},
   "outputs": [],
   "source": []
  },
  {
   "cell_type": "code",
   "execution_count": null,
   "metadata": {},
   "outputs": [],
   "source": []
  },
  {
   "cell_type": "code",
   "execution_count": null,
   "metadata": {},
   "outputs": [],
   "source": []
  },
  {
   "cell_type": "code",
   "execution_count": null,
   "metadata": {},
   "outputs": [],
   "source": []
  },
  {
   "cell_type": "code",
   "execution_count": null,
   "metadata": {},
   "outputs": [],
   "source": []
  },
  {
   "cell_type": "code",
   "execution_count": null,
   "metadata": {},
   "outputs": [],
   "source": []
  },
  {
   "cell_type": "code",
   "execution_count": null,
   "metadata": {},
   "outputs": [],
   "source": []
  },
  {
   "cell_type": "code",
   "execution_count": 1,
   "metadata": {},
   "outputs": [],
   "source": []
  }
 ],
 "metadata": {
  "kernelspec": {
   "display_name": "Python 3",
   "language": "python",
   "name": "python3"
  },
  "language_info": {
   "codemirror_mode": {
    "name": "ipython",
    "version": 3
   },
   "file_extension": ".py",
   "mimetype": "text/x-python",
   "name": "python",
   "nbconvert_exporter": "python",
   "pygments_lexer": "ipython3",
   "version": "3.8.3"
  }
 },
 "nbformat": 4,
 "nbformat_minor": 4
}
