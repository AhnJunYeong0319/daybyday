{
 "cells": [
  {
   "cell_type": "code",
   "execution_count": 71,
   "metadata": {},
   "outputs": [],
   "source": [
    "#import packages\n",
    "import pandas as pd\n",
    "import numpy as np\n",
    "import matplotlib.pyplot as plt\n",
    "from glob import glob\n"
   ]
  },
  {
   "cell_type": "code",
   "execution_count": 72,
   "metadata": {},
   "outputs": [
    {
     "name": "stdout",
     "output_type": "stream",
     "text": [
      "['C:/Users/hewas/Data_Study\\\\DM01_study.txt', 'C:/Users/hewas/Data_Study\\\\DM02_study.txt', 'C:/Users/hewas/Data_Study\\\\DM03_study.txt', 'C:/Users/hewas/Data_Study\\\\DM04_study.txt', 'C:/Users/hewas/Data_Study\\\\DM05_study.txt', 'C:/Users/hewas/Data_Study\\\\DM06_study.txt', 'C:/Users/hewas/Data_Study\\\\DM07_study.txt', 'C:/Users/hewas/Data_Study\\\\DM08_study.txt', 'C:/Users/hewas/Data_Study\\\\DM09_study.txt', 'C:/Users/hewas/Data_Study\\\\DM10_study.txt', 'C:/Users/hewas/Data_Study\\\\DM11_study.txt', 'C:/Users/hewas/Data_Study\\\\DM12_study.txt', 'C:/Users/hewas/Data_Study\\\\DM13_study.txt', 'C:/Users/hewas/Data_Study\\\\DM14_study.txt', 'C:/Users/hewas/Data_Study\\\\DM15_study.txt', 'C:/Users/hewas/Data_Study\\\\DM16_study.txt', 'C:/Users/hewas/Data_Study\\\\DM17_study.txt', 'C:/Users/hewas/Data_Study\\\\DM18_study.txt', 'C:/Users/hewas/Data_Study\\\\DM19_study.txt', 'C:/Users/hewas/Data_Study\\\\DM20_study.txt', 'C:/Users/hewas/Data_Study\\\\DM21_study.txt', 'C:/Users/hewas/Data_Study\\\\DM22_study.txt', 'C:/Users/hewas/Data_Study\\\\DM23_study.txt', 'C:/Users/hewas/Data_Study\\\\DM24_study.txt', 'C:/Users/hewas/Data_Study\\\\DM25_study.txt', 'C:/Users/hewas/Data_Study\\\\DM26_study.txt', 'C:/Users/hewas/Data_Study\\\\DM27_study.txt', 'C:/Users/hewas/Data_Study\\\\DM28_study.txt', 'C:/Users/hewas/Data_Study\\\\DM29_study.txt', 'C:/Users/hewas/Data_Study\\\\DM30_study.txt', 'C:/Users/hewas/Data_Study\\\\DM31_study.txt']\n",
      "['C:/Users/hewas/Data_Test\\\\DM01_test.txt', 'C:/Users/hewas/Data_Test\\\\DM02_test.txt', 'C:/Users/hewas/Data_Test\\\\DM03_test.txt', 'C:/Users/hewas/Data_Test\\\\DM04_test.txt', 'C:/Users/hewas/Data_Test\\\\DM05_test.txt', 'C:/Users/hewas/Data_Test\\\\DM06_test.txt', 'C:/Users/hewas/Data_Test\\\\DM07_test.txt', 'C:/Users/hewas/Data_Test\\\\DM08_test.txt', 'C:/Users/hewas/Data_Test\\\\DM09_test.txt', 'C:/Users/hewas/Data_Test\\\\DM10_test.txt', 'C:/Users/hewas/Data_Test\\\\DM11_test.txt', 'C:/Users/hewas/Data_Test\\\\DM12_test.txt', 'C:/Users/hewas/Data_Test\\\\DM13_test.txt', 'C:/Users/hewas/Data_Test\\\\DM14_test.txt', 'C:/Users/hewas/Data_Test\\\\DM15_test.txt', 'C:/Users/hewas/Data_Test\\\\DM16_test.txt', 'C:/Users/hewas/Data_Test\\\\DM17_test.txt', 'C:/Users/hewas/Data_Test\\\\DM18_test.txt', 'C:/Users/hewas/Data_Test\\\\DM19_test.txt', 'C:/Users/hewas/Data_Test\\\\DM20_test.txt', 'C:/Users/hewas/Data_Test\\\\DM21_test.txt', 'C:/Users/hewas/Data_Test\\\\DM22_test.txt', 'C:/Users/hewas/Data_Test\\\\DM23_test.txt', 'C:/Users/hewas/Data_Test\\\\DM24_test.txt', 'C:/Users/hewas/Data_Test\\\\DM25_test.txt', 'C:/Users/hewas/Data_Test\\\\DM26_test.txt', 'C:/Users/hewas/Data_Test\\\\DM27_test.txt', 'C:/Users/hewas/Data_Test\\\\DM28_test.txt', 'C:/Users/hewas/Data_Test\\\\DM29_test.txt', 'C:/Users/hewas/Data_Test\\\\DM30_test.txt', 'C:/Users/hewas/Data_Test\\\\DM31_test.txt']\n"
     ]
    }
   ],
   "source": [
    "#make two lists about file locations\n",
    "study = glob('C:/Users/hewas/Data_Study/*.txt')\n",
    "test = glob('C:/Users/hewas/Data_Test/*.txt')\n",
    "print(study)\n",
    "print(test)"
   ]
  },
  {
   "cell_type": "code",
   "execution_count": 73,
   "metadata": {},
   "outputs": [
    {
     "data": {
      "text/html": [
       "<div>\n",
       "<style scoped>\n",
       "    .dataframe tbody tr th:only-of-type {\n",
       "        vertical-align: middle;\n",
       "    }\n",
       "\n",
       "    .dataframe tbody tr th {\n",
       "        vertical-align: top;\n",
       "    }\n",
       "\n",
       "    .dataframe thead th {\n",
       "        text-align: right;\n",
       "    }\n",
       "</style>\n",
       "<table border=\"1\" class=\"dataframe\">\n",
       "  <thead>\n",
       "    <tr style=\"text-align: right;\">\n",
       "      <th></th>\n",
       "      <th>Trial</th>\n",
       "      <th>ObjID</th>\n",
       "      <th>LocID</th>\n",
       "      <th>FB</th>\n",
       "      <th>Task</th>\n",
       "      <th>RT</th>\n",
       "      <th>Stim</th>\n",
       "    </tr>\n",
       "  </thead>\n",
       "  <tbody>\n",
       "    <tr>\n",
       "      <th>1</th>\n",
       "      <td>44</td>\n",
       "      <td>3</td>\n",
       "      <td>1</td>\n",
       "      <td>-2</td>\n",
       "      <td>1500</td>\n",
       "      <td>4015</td>\n",
       "      <td>NaN</td>\n",
       "    </tr>\n",
       "    <tr>\n",
       "      <th>2</th>\n",
       "      <td>126</td>\n",
       "      <td>1</td>\n",
       "      <td>1</td>\n",
       "      <td>-2</td>\n",
       "      <td>1500</td>\n",
       "      <td>10027</td>\n",
       "      <td>NaN</td>\n",
       "    </tr>\n",
       "    <tr>\n",
       "      <th>3</th>\n",
       "      <td>185</td>\n",
       "      <td>2</td>\n",
       "      <td>1</td>\n",
       "      <td>-2</td>\n",
       "      <td>1283</td>\n",
       "      <td>16025</td>\n",
       "      <td>NaN</td>\n",
       "    </tr>\n",
       "    <tr>\n",
       "      <th>4</th>\n",
       "      <td>86</td>\n",
       "      <td>4</td>\n",
       "      <td>1</td>\n",
       "      <td>-2</td>\n",
       "      <td>632</td>\n",
       "      <td>24023</td>\n",
       "      <td>NaN</td>\n",
       "    </tr>\n",
       "    <tr>\n",
       "      <th>5</th>\n",
       "      <td>137</td>\n",
       "      <td>2</td>\n",
       "      <td>1</td>\n",
       "      <td>-2</td>\n",
       "      <td>965</td>\n",
       "      <td>32021</td>\n",
       "      <td>NaN</td>\n",
       "    </tr>\n",
       "    <tr>\n",
       "      <th>...</th>\n",
       "      <td>...</td>\n",
       "      <td>...</td>\n",
       "      <td>...</td>\n",
       "      <td>...</td>\n",
       "      <td>...</td>\n",
       "      <td>...</td>\n",
       "      <td>...</td>\n",
       "    </tr>\n",
       "    <tr>\n",
       "      <th>260</th>\n",
       "      <td>199</td>\n",
       "      <td>4</td>\n",
       "      <td>1</td>\n",
       "      <td>-1</td>\n",
       "      <td>616</td>\n",
       "      <td>695931</td>\n",
       "      <td>NaN</td>\n",
       "    </tr>\n",
       "    <tr>\n",
       "      <th>261</th>\n",
       "      <td>250</td>\n",
       "      <td>3</td>\n",
       "      <td>1</td>\n",
       "      <td>-1</td>\n",
       "      <td>1015</td>\n",
       "      <td>701930</td>\n",
       "      <td>NaN</td>\n",
       "    </tr>\n",
       "    <tr>\n",
       "      <th>262</th>\n",
       "      <td>4</td>\n",
       "      <td>2</td>\n",
       "      <td>1</td>\n",
       "      <td>-1</td>\n",
       "      <td>615</td>\n",
       "      <td>709928</td>\n",
       "      <td>NaN</td>\n",
       "    </tr>\n",
       "    <tr>\n",
       "      <th>263</th>\n",
       "      <td>128</td>\n",
       "      <td>4</td>\n",
       "      <td>1</td>\n",
       "      <td>-1</td>\n",
       "      <td>750</td>\n",
       "      <td>715925</td>\n",
       "      <td>NaN</td>\n",
       "    </tr>\n",
       "    <tr>\n",
       "      <th>264</th>\n",
       "      <td>6</td>\n",
       "      <td>1</td>\n",
       "      <td>1</td>\n",
       "      <td>-1</td>\n",
       "      <td>715</td>\n",
       "      <td>721924</td>\n",
       "      <td>NaN</td>\n",
       "    </tr>\n",
       "  </tbody>\n",
       "</table>\n",
       "<p>264 rows × 7 columns</p>\n",
       "</div>"
      ],
      "text/plain": [
       "     Trial  ObjID  LocID  FB  Task      RT  Stim\n",
       "1       44      3      1  -2  1500    4015   NaN\n",
       "2      126      1      1  -2  1500   10027   NaN\n",
       "3      185      2      1  -2  1283   16025   NaN\n",
       "4       86      4      1  -2   632   24023   NaN\n",
       "5      137      2      1  -2   965   32021   NaN\n",
       "..     ...    ...    ...  ..   ...     ...   ...\n",
       "260    199      4      1  -1   616  695931   NaN\n",
       "261    250      3      1  -1  1015  701930   NaN\n",
       "262      4      2      1  -1   615  709928   NaN\n",
       "263    128      4      1  -1   750  715925   NaN\n",
       "264      6      1      1  -1   715  721924   NaN\n",
       "\n",
       "[264 rows x 7 columns]"
      ]
     },
     "metadata": {},
     "output_type": "display_data"
    },
    {
     "name": "stdout",
     "output_type": "stream",
     "text": [
      "     Trial  Object_ID  Task_Type  Stim_onset1  RT1     Res1  Stim_onset2  RT2  \\\n",
      "1      213          0       1006         2224    1     4966          565    4   \n",
      "2      236          1       6664          761    4        0            0    0   \n",
      "3       35          0      10176          329    1    12240          365    5   \n",
      "4      217          0      13621          828    1    16185         1630    3   \n",
      "5      128          0      18948          795    1    21478          514    2   \n",
      "..     ...        ...        ...          ...  ...      ...          ...  ...   \n",
      "524    146          0    1780321          245    1  1782302          182    1   \n",
      "525    189          1    1783617          395    4        0            0    0   \n",
      "526     10          1    1786763          612    4        0            0    0   \n",
      "527    160          1    1790125          528    4        0            0    0   \n",
      "528    170          1    1793404          312    4        0            0    0   \n",
      "\n",
      "     Res2  \n",
      "1     NaN  \n",
      "2     NaN  \n",
      "3     NaN  \n",
      "4     NaN  \n",
      "5     NaN  \n",
      "..    ...  \n",
      "524   NaN  \n",
      "525   NaN  \n",
      "526   NaN  \n",
      "527   NaN  \n",
      "528   NaN  \n",
      "\n",
      "[528 rows x 9 columns]\n"
     ]
    }
   ],
   "source": [
    "#Now the 'k'th subject's data will be pasted on study(or test)_list['k'] \n",
    "study_list = [None]\n",
    "test_list = [None]\n",
    "\n",
    "for m in range(31):\n",
    "    study_list.append(pd.read_csv(study[m], sep = \"\\t\", engine='python', encoding = \"cp949\"))\n",
    "    \n",
    "for n in range(31):\n",
    "    test_list.append(pd.read_csv(test[n], sep = \"\\t\", engine='python', encoding = \"cp949\"))\n",
    "\n",
    "#display the 2nd subject's study data\n",
    "display(study_list[2])\n",
    "\n",
    "#print the 17th subject's test data\n",
    "print(test_list[17])"
   ]
  },
  {
   "cell_type": "code",
   "execution_count": null,
   "metadata": {},
   "outputs": [],
   "source": []
  },
  {
   "cell_type": "code",
   "execution_count": null,
   "metadata": {},
   "outputs": [],
   "source": [
    "#define a function performing the sort with an argument of subject ID\n",
    "def (id):"
   ]
  },
  {
   "cell_type": "code",
   "execution_count": null,
   "metadata": {},
   "outputs": [],
   "source": []
  },
  {
   "cell_type": "code",
   "execution_count": null,
   "metadata": {},
   "outputs": [],
   "source": []
  },
  {
   "cell_type": "code",
   "execution_count": null,
   "metadata": {},
   "outputs": [],
   "source": [
    "conditions = [None]\n",
    "\n",
    "values = ['HIT-HC', 'HIT-LC', 'MISS-LC', 'MISS-HC', 'FA-HC', 'FA-LC', 'CR-LC', 'CR-HC']\n",
    "for h in range(31):\n",
    "    conditions.append([(test_list[h+1]['Task_Type']==a) & (test_list[h+1]['Res1']==b) for b in range(1,5) for a in range(2)])\n",
    "\n",
    "    \n",
    "for i in range(31):\n",
    "    test_list[i+1][\"Res_Type\"]= np.select(conditions[i+1], values)\n",
    "\n",
    "print(conditions[2])\n",
    "print(np.select(conditions[2], values))"
   ]
  },
  {
   "cell_type": "code",
   "execution_count": null,
   "metadata": {},
   "outputs": [],
   "source": []
  },
  {
   "cell_type": "code",
   "execution_count": null,
   "metadata": {},
   "outputs": [],
   "source": []
  },
  {
   "cell_type": "code",
   "execution_count": null,
   "metadata": {},
   "outputs": [],
   "source": []
  },
  {
   "cell_type": "code",
   "execution_count": null,
   "metadata": {},
   "outputs": [],
   "source": []
  },
  {
   "cell_type": "code",
   "execution_count": null,
   "metadata": {},
   "outputs": [],
   "source": []
  },
  {
   "cell_type": "code",
   "execution_count": null,
   "metadata": {},
   "outputs": [],
   "source": [
    "#### concatenate 31 subject data horizontally to plot the mean and std plot\n",
    "\n",
    "'''''tmp = [subject_MScore(i)['Memory Scores'] for i in range(1,32)]\n",
    "\n",
    "entire_data = pd.concat(tmp, axis = 1)\n",
    "mean_MScores = entire_data.mean(axis = 1)\n",
    "X = pd.Series(mean_MScores, name=\"Memory Scores\").to_frame()\n",
    "X['Res Type'] =  values\n",
    "X = X[['Res Type', 'Memory Scores']]\n",
    "print(X)\n",
    "\n",
    "\n",
    "std_MScores = entire_data.std(axis = 1)\n",
    "Y = pd.Series(mean_MScores, name=\"Memory Scores\").to_frame()\n",
    "Y['Res Type'] =  values\n",
    "Y = Y[['Res Type', 'Memory Scores']]\n",
    "print(Y)'''''"
   ]
  },
  {
   "cell_type": "code",
   "execution_count": null,
   "metadata": {},
   "outputs": [],
   "source": [
    "fig, ax = plt.subplots()\n",
    "mean_MScores.plot(kind='bar', ax=ax, yerr=std_MScores, capsize = 2)\n",
    "plt.ylabel('Response rate')"
   ]
  },
  {
   "cell_type": "code",
   "execution_count": null,
   "metadata": {},
   "outputs": [],
   "source": [
    "mean_MScores.plot(kind='bar', yerr=std_MScores, capsize = 2)\n",
    "plt.ylabel('Response rate')"
   ]
  },
  {
   "cell_type": "code",
   "execution_count": null,
   "metadata": {},
   "outputs": [],
   "source": []
  },
  {
   "cell_type": "code",
   "execution_count": null,
   "metadata": {},
   "outputs": [],
   "source": []
  },
  {
   "cell_type": "code",
   "execution_count": null,
   "metadata": {},
   "outputs": [],
   "source": []
  },
  {
   "cell_type": "code",
   "execution_count": null,
   "metadata": {},
   "outputs": [],
   "source": []
  },
  {
   "cell_type": "code",
   "execution_count": null,
   "metadata": {},
   "outputs": [],
   "source": []
  },
  {
   "cell_type": "code",
   "execution_count": null,
   "metadata": {},
   "outputs": [],
   "source": []
  },
  {
   "cell_type": "code",
   "execution_count": null,
   "metadata": {},
   "outputs": [],
   "source": []
  },
  {
   "cell_type": "code",
   "execution_count": null,
   "metadata": {},
   "outputs": [],
   "source": []
  },
  {
   "cell_type": "code",
   "execution_count": null,
   "metadata": {},
   "outputs": [],
   "source": []
  },
  {
   "cell_type": "code",
   "execution_count": null,
   "metadata": {},
   "outputs": [],
   "source": []
  },
  {
   "cell_type": "code",
   "execution_count": 1,
   "metadata": {},
   "outputs": [],
   "source": []
  }
 ],
 "metadata": {
  "kernelspec": {
   "display_name": "Python 3",
   "language": "python",
   "name": "python3"
  },
  "language_info": {
   "codemirror_mode": {
    "name": "ipython",
    "version": 3
   },
   "file_extension": ".py",
   "mimetype": "text/x-python",
   "name": "python",
   "nbconvert_exporter": "python",
   "pygments_lexer": "ipython3",
   "version": "3.8.3"
  }
 },
 "nbformat": 4,
 "nbformat_minor": 4
}
