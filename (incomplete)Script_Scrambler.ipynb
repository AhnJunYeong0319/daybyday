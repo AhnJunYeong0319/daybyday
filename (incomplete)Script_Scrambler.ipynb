{
 "cells": [
  {
   "cell_type": "code",
   "execution_count": null,
   "metadata": {
    "colab": {
     "base_uri": "https://localhost:8080/",
     "height": 53
    },
    "colab_type": "code",
    "id": "hBiq6uUCedn5",
    "outputId": "e4063ea4-ab59-4925-d641-695dd4887d8a"
   },
   "outputs": [],
   "source": [
    "strt = str(input())\n",
    "X = strt.split('.')\n",
    " \n",
    " \n",
    "#Gaussian Function Declaration\n",
    "def Gaux(x) :\n",
    "  g = 0\n",
    "  while True:\n",
    "    g = g + 1\n",
    "    if g <= x <= g+1 :\n",
    "      x = g\n",
    "      break\n",
    "  return x\n",
    " \n",
    "k = len(X) #4\n",
    " \n",
    "#Indexing Number Allocating\n",
    "A = Gaux(k/3) - 1 #0\n",
    "B = k - A - 2 #2\n",
    "C = k - 1 #3\n",
    " \n",
    "NewA = []\n",
    "NewB = []\n",
    "NewC = []\n",
    " \n",
    "n = 0\n",
    "m = A + 1 #1\n",
    "r = B + 1 #3\n",
    " \n",
    "while True : \n",
    "  NewA.append(X[n])\n",
    "  n = n + 1\n",
    "  if n >= A :\n",
    "    break\n",
    " \n",
    "while True : \n",
    "  NewB.append(X[m])\n",
    "  m = m + 1\n",
    "  if m >= B :\n",
    "    break\n",
    " \n",
    "while True : \n",
    "  NewC.append(X[r])\n",
    "  r = r + 1\n",
    "  if r >= C :\n",
    "    break\n",
    "\n",
    "print(NewA, NewB, NewC)"
   ]
  },
  {
   "cell_type": "code",
   "execution_count": null,
   "metadata": {
    "colab": {},
    "colab_type": "code",
    "id": "uHo9nED0fJpu"
   },
   "outputs": [],
   "source": []
  }
 ],
 "metadata": {
  "colab": {
   "collapsed_sections": [],
   "name": "Script Scrambler.ipynb",
   "provenance": []
  },
  "kernelspec": {
   "display_name": "Python 3",
   "language": "python",
   "name": "python3"
  },
  "language_info": {
   "codemirror_mode": {
    "name": "ipython",
    "version": 3
   },
   "file_extension": ".py",
   "mimetype": "text/x-python",
   "name": "python",
   "nbconvert_exporter": "python",
   "pygments_lexer": "ipython3",
   "version": "3.8.3"
  }
 },
 "nbformat": 4,
 "nbformat_minor": 1
}
