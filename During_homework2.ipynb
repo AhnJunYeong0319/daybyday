{
 "cells": [
  {
   "cell_type": "code",
   "execution_count": null,
   "metadata": {},
   "outputs": [],
   "source": []
  },
  {
   "cell_type": "code",
   "execution_count": null,
   "metadata": {},
   "outputs": [],
   "source": []
  },
  {
   "cell_type": "code",
   "execution_count": null,
   "metadata": {},
   "outputs": [],
   "source": []
  },
  {
   "cell_type": "code",
   "execution_count": null,
   "metadata": {},
   "outputs": [],
   "source": []
  },
  {
   "cell_type": "code",
   "execution_count": null,
   "metadata": {},
   "outputs": [],
   "source": []
  },
  {
   "cell_type": "code",
   "execution_count": null,
   "metadata": {},
   "outputs": [],
   "source": []
  },
  {
   "cell_type": "code",
   "execution_count": null,
   "metadata": {},
   "outputs": [],
   "source": []
  },
  {
   "cell_type": "code",
   "execution_count": null,
   "metadata": {},
   "outputs": [],
   "source": [
    "''''def subject_MScore_bar(id):\n",
    "    res_type=['Hit-HC', 'Hit-LC', 'Miss-LC', 'Miss-HC', 'FA-HC', 'FA-LC', 'CR-LC', 'CR-HC']\n",
    "    obj_type=['Old','New']\n",
    "    pos = np.arange(len(obj_type))\n",
    "    bar_width = 0.35\n",
    "    Happiness_Index_Male=[60,40,70,65,85]\n",
    "    Happiness_Index_Female=[30,60,70,55,75] \n",
    "    plt.bar(pos,Happiness_Index_Male,bar_width,color='blue',edgecolor='black')\n",
    "    plt.bar(pos+bar_width,Happiness_Index_Female,bar_width,color='pink',edgecolor='black')\n",
    "    plt.xticks(pos, city)\n",
    "    plt.xlabel('City', fontsize=16)\n",
    "    plt.ylabel('Happiness_Index', fontsize=16)\n",
    "    plt.title('Group Barchart - Happiness index across cities By Gender',fontsize=18)\n",
    "    plt.legend(Gender,loc=2)\n",
    "    plt.show()''''"
   ]
  },
  {
   "cell_type": "code",
   "execution_count": null,
   "metadata": {},
   "outputs": [],
   "source": [
    "'''df = pd.concat([old, new], axis = 0)\n",
    "print(df)''''\n",
    "\n",
    "''''s = pd.Series(df, name=\"Memory Scores\")\n",
    "s.to_frame()''''"
   ]
  },
  {
   "cell_type": "code",
   "execution_count": null,
   "metadata": {},
   "outputs": [],
   "source": [
    "''''HitandMiss = ['Hit-HC','Hit-LC','Miss-HC','Miss-LC']\n",
    "CRandFA = ['FA-HC', 'FA-LC', 'CR-LC', 'CR-HC']\n",
    "\n",
    "old = test_list[1][test_list[1]['Res_Type'].isin(HitandMiss)]['Res_Type'].value_counts(normalize=True)\n",
    "display(old)\n",
    "\n",
    "new = test_list[1][test_list[1]['Res_Type'].isin(CRandFA)]['Res_Type'].value_counts(normalize=True)\n",
    "display(new)\n",
    "print(type(new))'''''"
   ]
  },
  {
   "cell_type": "code",
   "execution_count": null,
   "metadata": {},
   "outputs": [],
   "source": [
    "'''[(test_list[h+1]['Task_Type']==0) & (test_list[h+1]['Res1']==1),\n",
    " (test_list[h+1]['Task_Type']==0) & (test_list[h+1]['Res1']==2),\n",
    " (test_list[h+1]['Task_Type']==0) & (test_list[h+1]['Res1']==3),\n",
    " (test_list[h+1]['Task_Type']==0) & (test_list[h+1]['Res1']==4),\n",
    " (test_list[h+1]['Task_Type']==1) & (test_list[h+1]['Res1']==1),\n",
    " (test_list[h+1]['Task_Type']==1) & (test_list[h+1]['Res1']==2),\n",
    " (test_list[h+1]['Task_Type']==1) & (test_list[h+1]['Res1']==3),\n",
    " (test_list[h+1]['Task_Type']==1) & (test_list[h+1]['Res1']==4)]'''\n",
    "\n",
    "#[(test_list[h+1]['Task_Type']==a) & (test_list[h+1]['Res1']==b) for b in range(1,5) for a in range(2)]"
   ]
  }
 ],
 "metadata": {
  "kernelspec": {
   "display_name": "Python 3",
   "language": "python",
   "name": "python3"
  },
  "language_info": {
   "codemirror_mode": {
    "name": "ipython",
    "version": 3
   },
   "file_extension": ".py",
   "mimetype": "text/x-python",
   "name": "python",
   "nbconvert_exporter": "python",
   "pygments_lexer": "ipython3",
   "version": "3.8.3"
  }
 },
 "nbformat": 4,
 "nbformat_minor": 4
}
