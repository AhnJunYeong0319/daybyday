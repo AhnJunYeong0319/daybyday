{
 "cells": [
  {
   "cell_type": "code",
   "execution_count": 79,
   "metadata": {},
   "outputs": [
    {
     "name": "stdout",
     "output_type": "stream",
     "text": [
      "Some scholars recommend we focus on questions that are easy to answer. This criterion is not without logic: study of the fundamentally unknowable is futile and should be avoided.  However, the larger danger lies in pointlessly “looking under the light” when the object sought lies in darkness but could with effort be found.  Large parts of social science have already diverted their focus from the important to the easily observed, thereby drifting into trivia.  Einstein’s general theory of relativity proved hard to test.  So should he have restrained himself from devising it?  The structure of a scientific program is distorted when researchers shy from the logical next question because its answer will be hard to find.  A better solution is to give bonus credit to scholars who take on the harder task of studying the less observable.\n",
      "['Some scholars recommend we focus on questions that are easy to answer', ' This criterion is not without logic: study of the fundamentally unknowable is futile and should be avoided', '  However, the larger danger lies in pointlessly “looking under the light” when the object sought lies in darkness but could with effort be found', '  Large parts of social science have already diverted their focus from the important to the easily observed, thereby drifting into trivia', '  Einstein’s general theory of relativity proved hard to test', '  So should he have restrained himself from devising it?  The structure of a scientific program is distorted when researchers shy from the logical next question because its answer will be hard to find', '  A better solution is to give bonus credit to scholars who take on the harder task of studying the less observable', '']\n"
     ]
    }
   ],
   "source": [
    "import re\n",
    "import random\n",
    "\n",
    "script = str(input())\n",
    "splited_script = script.split('.')\n",
    "\n",
    "print(splited_script)\n",
    "length = len(splited_script)"
   ]
  },
  {
   "cell_type": "code",
   "execution_count": null,
   "metadata": {},
   "outputs": [],
   "source": [
    "##.join"
   ]
  },
  {
   "cell_type": "code",
   "execution_count": 21,
   "metadata": {},
   "outputs": [
    {
     "data": {
      "text/plain": [
       "[1, 0, 2]"
      ]
     },
     "execution_count": 21,
     "metadata": {},
     "output_type": "execute_result"
    }
   ],
   "source": [
    "random.sample([0,1,2],3)"
   ]
  },
  {
   "cell_type": "code",
   "execution_count": 80,
   "metadata": {},
   "outputs": [
    {
     "name": "stdout",
     "output_type": "stream",
     "text": [
      "8\n",
      "[A]   Large parts of social science have already diverted their focus from the important to the easily observed, thereby drifting into trivia.   Einstein’s general theory of relativity proved hard to test.   So should he have restrained himself from devising it?  The structure of a scientific program is distorted when researchers shy from the logical next question because its answer will be hard to find \n",
      "\n",
      "[B]   A better solution is to give bonus credit to scholars who take on the harder task of studying the less observable.  \n",
      "\n",
      "[C] Some scholars recommend we focus on questions that are easy to answer.  This criterion is not without logic: study of the fundamentally unknowable is futile and should be avoided.   However, the larger danger lies in pointlessly “looking under the light” when the object sought lies in darkness but could with effort be found \n",
      "\n",
      "['C', 'A', 'B']\n"
     ]
    }
   ],
   "source": [
    "print(length)\n",
    "A, B, C = [], [], []\n",
    "a, b, c = 0, 0, 0\n",
    "\n",
    "if length == 4:\n",
    "    a = [0]\n",
    "    b = [1,2]\n",
    "    c = [3,]\n",
    "\n",
    "elif length == 5:\n",
    "    a = [0]\n",
    "    b = [1,2]\n",
    "    c = [3,4]\n",
    "    \n",
    "elif length == 6:\n",
    "    a = [0,1]\n",
    "    b = [2,3]\n",
    "    c = [4,5]\n",
    "    \n",
    "elif length == 7:\n",
    "    a = [0,1,2]\n",
    "    b = [3,4]\n",
    "    c = [5,6]\n",
    "    \n",
    "elif length == 8:\n",
    "    a = [0,1,2]\n",
    "    b = [3,4,5]\n",
    "    c = [6,7]\n",
    "    \n",
    "elif length == 9:\n",
    "    a = [0,1,2]\n",
    "    b = [3,4,5]\n",
    "    c = [6,7,8]\n",
    "    \n",
    "else:\n",
    "    a = [0,1,2]\n",
    "    b = [3,4,5]\n",
    "    c = [6,7,8,9]\n",
    "    \n",
    "\n",
    "for x in a:\n",
    "    A.append(splited_script[x])\n",
    "    \n",
    "for y in b:\n",
    "    B.append(splited_script[y])\n",
    "    \n",
    "for z in c:\n",
    "    C.append(splited_script[z])\n",
    "\n",
    "opt_A = \". \".join(A)\n",
    "\n",
    "opt_B = \". \".join(B)\n",
    "\n",
    "opt_C = \". \".join(C)\n",
    "\n",
    "Bulky = [opt_A, opt_B, opt_C]\n",
    "index_A = Bulky.index(opt_A)\n",
    "index_B = Bulky.index(opt_B)\n",
    "index_C = Bulky.index(opt_C)\n",
    "\n",
    "The_Last = []\n",
    "index = random.sample([0,1,2],3)\n",
    "\n",
    "for k in index:\n",
    "    if k == index_A:\n",
    "        The_Last.append(Bulky[0])\n",
    "    elif k == index_B:\n",
    "        The_Last.append(Bulky[1])\n",
    "    else:\n",
    "        The_Last.append(Bulky[2])\n",
    "\n",
    "\n",
    "title = ['[A]','[B]','[C]']\n",
    "\n",
    "print(title[0], The_Last[0], \"\\n\")\n",
    "print(title[1], The_Last[1], \"\\n\")\n",
    "print(title[2], The_Last[2], \"\\n\")\n",
    "\n",
    "answer = []\n",
    "        \n",
    "    \n",
    "dic = { 'A' : index[0], 'B' : index[1], 'C' : index[2]}\n",
    "\n",
    "for i in range(3):\n",
    "    if i == dic['A']:\n",
    "        answer.append('A')\n",
    "    elif i == dic['B']:\n",
    "        answer.append('B')\n",
    "    else:\n",
    "        answer.append('C')\n",
    "\n",
    "\n",
    "print(answer)"
   ]
  }
 ],
 "metadata": {
  "kernelspec": {
   "display_name": "Python 3",
   "language": "python",
   "name": "python3"
  },
  "language_info": {
   "codemirror_mode": {
    "name": "ipython",
    "version": 3
   },
   "file_extension": ".py",
   "mimetype": "text/x-python",
   "name": "python",
   "nbconvert_exporter": "python",
   "pygments_lexer": "ipython3",
   "version": "3.8.3"
  }
 },
 "nbformat": 4,
 "nbformat_minor": 4
}
