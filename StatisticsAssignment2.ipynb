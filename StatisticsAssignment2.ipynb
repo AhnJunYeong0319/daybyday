{
 "cells": [
  {
   "cell_type": "markdown",
   "metadata": {},
   "source": [
    "#### • use the Default data to classify default with income+balance+student"
   ]
  },
  {
   "cell_type": "markdown",
   "metadata": {},
   "source": [
    "-Load the essential packages"
   ]
  },
  {
   "cell_type": "code",
   "execution_count": 405,
   "metadata": {},
   "outputs": [],
   "source": [
    "library(ISLR)\n",
    "library(MASS)\n",
    "library(dplyr)\n",
    "library(class)\n",
    "library(boot)"
   ]
  },
  {
   "cell_type": "code",
   "execution_count": 352,
   "metadata": {},
   "outputs": [
    {
     "data": {
      "text/plain": [
       " default    student       balance           income     \n",
       " No :9667   No :7056   Min.   :   0.0   Min.   :  772  \n",
       " Yes: 333   Yes:2944   1st Qu.: 481.7   1st Qu.:21340  \n",
       "                       Median : 823.6   Median :34553  \n",
       "                       Mean   : 835.4   Mean   :33517  \n",
       "                       3rd Qu.:1166.3   3rd Qu.:43808  \n",
       "                       Max.   :2654.3   Max.   :73554  "
      ]
     },
     "metadata": {},
     "output_type": "display_data"
    }
   ],
   "source": [
    "summary(Default)"
   ]
  },
  {
   "cell_type": "markdown",
   "metadata": {},
   "source": [
    "#### • split the data in tain and test with one random sample of 80/20\n",
    "#### •     ? what do you have to consider here?"
   ]
  },
  {
   "cell_type": "markdown",
   "metadata": {},
   "source": [
    "-To split the original 'default' data into a train set and a test set, we should use sample() function who takes a sample of the specified size from the elements of x using either with or without replacement. Here, when I make a train set whose size is four-fifths the number of obsevation of Default without replacement, the rest of it naturally becomes a test set."
   ]
  },
  {
   "cell_type": "code",
   "execution_count": 353,
   "metadata": {},
   "outputs": [],
   "source": [
    "set.seed(38)\n",
    "train = sample(nrow(Default),size = nrow(Default)/(5/4))"
   ]
  },
  {
   "cell_type": "markdown",
   "metadata": {},
   "source": [
    "# Logistic Regression"
   ]
  },
  {
   "cell_type": "code",
   "execution_count": 354,
   "metadata": {},
   "outputs": [],
   "source": [
    "glm.fit <- glm(default ~ income + balance + student, data = Default, subset = train, family = \"binomial\")"
   ]
  },
  {
   "cell_type": "code",
   "execution_count": 355,
   "metadata": {},
   "outputs": [],
   "source": [
    "#discuss the relevance of predictors"
   ]
  },
  {
   "cell_type": "code",
   "execution_count": null,
   "metadata": {
    "scrolled": true
   },
   "outputs": [],
   "source": []
  },
  {
   "cell_type": "code",
   "execution_count": 271,
   "metadata": {},
   "outputs": [],
   "source": [
    "#create a confusion matrix"
   ]
  },
  {
   "cell_type": "code",
   "execution_count": 356,
   "metadata": {},
   "outputs": [],
   "source": [
    "glm.probs=predict(glm.fit, Default[-train,],type=\"response\")"
   ]
  },
  {
   "cell_type": "code",
   "execution_count": 357,
   "metadata": {},
   "outputs": [
    {
     "data": {
      "text/html": [
       "<table>\n",
       "<thead><tr><th></th><th scope=col>Yes</th></tr></thead>\n",
       "<tbody>\n",
       "\t<tr><th scope=row>No</th><td>0</td></tr>\n",
       "\t<tr><th scope=row>Yes</th><td>1</td></tr>\n",
       "</tbody>\n",
       "</table>\n"
      ],
      "text/latex": [
       "\\begin{tabular}{r|l}\n",
       "  & Yes\\\\\n",
       "\\hline\n",
       "\tNo & 0\\\\\n",
       "\tYes & 1\\\\\n",
       "\\end{tabular}\n"
      ],
      "text/markdown": [
       "\n",
       "| <!--/--> | Yes |\n",
       "|---|---|\n",
       "| No | 0 |\n",
       "| Yes | 1 |\n",
       "\n"
      ],
      "text/plain": [
       "    Yes\n",
       "No  0  \n",
       "Yes 1  "
      ]
     },
     "metadata": {},
     "output_type": "display_data"
    }
   ],
   "source": [
    "contrasts(Default$default)"
   ]
  },
  {
   "cell_type": "code",
   "execution_count": 358,
   "metadata": {},
   "outputs": [],
   "source": [
    "glm.pred=rep(\"No\", 2000)\n",
    "glm.pred[glm.probs>0.5]=\"Yes\""
   ]
  },
  {
   "cell_type": "code",
   "execution_count": 359,
   "metadata": {},
   "outputs": [
    {
     "data": {
      "text/plain": [
       "     true\n",
       "pred    No  Yes\n",
       "  No  1910   49\n",
       "  Yes   14   27"
      ]
     },
     "metadata": {},
     "output_type": "display_data"
    }
   ],
   "source": [
    "confusionmatrix_glm <-table(data.frame(pred = glm.pred, true = Default[-train,]$default))\n",
    "confusionmatrix_glm"
   ]
  },
  {
   "cell_type": "code",
   "execution_count": 260,
   "metadata": {},
   "outputs": [],
   "source": [
    "#calculate precision, recall and F1-score"
   ]
  },
  {
   "cell_type": "code",
   "execution_count": 360,
   "metadata": {},
   "outputs": [
    {
     "data": {
      "text/html": [
       "0.658536585365854"
      ],
      "text/latex": [
       "0.658536585365854"
      ],
      "text/markdown": [
       "0.658536585365854"
      ],
      "text/plain": [
       "[1] 0.6585366"
      ]
     },
     "metadata": {},
     "output_type": "display_data"
    }
   ],
   "source": [
    "precision_glm <- confusionmatrix_glm[2,2] / sum(confusionmatrix_glm[2,])\n",
    "precision_glm"
   ]
  },
  {
   "cell_type": "code",
   "execution_count": 361,
   "metadata": {},
   "outputs": [
    {
     "data": {
      "text/html": [
       "0.355263157894737"
      ],
      "text/latex": [
       "0.355263157894737"
      ],
      "text/markdown": [
       "0.355263157894737"
      ],
      "text/plain": [
       "[1] 0.3552632"
      ]
     },
     "metadata": {},
     "output_type": "display_data"
    }
   ],
   "source": [
    "recall_glm <- confusionmatrix_glm[2,2] / sum(confusionmatrix_glm[,2])\n",
    "recall_glm \n"
   ]
  },
  {
   "cell_type": "code",
   "execution_count": 362,
   "metadata": {},
   "outputs": [
    {
     "data": {
      "text/html": [
       "0.461538461538462"
      ],
      "text/latex": [
       "0.461538461538462"
      ],
      "text/markdown": [
       "0.461538461538462"
      ],
      "text/plain": [
       "[1] 0.4615385"
      ]
     },
     "metadata": {},
     "output_type": "display_data"
    }
   ],
   "source": [
    "F1score_glm <- 2*precision_glm*recall_glm/(precision_glm+recall_glm)\n",
    "F1score_glm"
   ]
  },
  {
   "cell_type": "code",
   "execution_count": null,
   "metadata": {},
   "outputs": [],
   "source": []
  },
  {
   "cell_type": "markdown",
   "metadata": {},
   "source": [
    "# LDA"
   ]
  },
  {
   "cell_type": "code",
   "execution_count": 367,
   "metadata": {},
   "outputs": [],
   "source": [
    "lda.fit <- lda(default ~ income + balance + student, data = Default, subset = train)"
   ]
  },
  {
   "cell_type": "code",
   "execution_count": 368,
   "metadata": {},
   "outputs": [],
   "source": [
    "#discuss the relevance of predictors"
   ]
  },
  {
   "cell_type": "code",
   "execution_count": 369,
   "metadata": {},
   "outputs": [
    {
     "data": {
      "text/html": [
       "<table>\n",
       "<thead><tr><th></th><th scope=col>LD1</th></tr></thead>\n",
       "<tbody>\n",
       "\t<tr><th scope=row>income</th><td> 3.370464e-06</td></tr>\n",
       "\t<tr><th scope=row>balance</th><td> 2.243630e-03</td></tr>\n",
       "\t<tr><th scope=row>studentYes</th><td>-1.957734e-01</td></tr>\n",
       "</tbody>\n",
       "</table>\n"
      ],
      "text/latex": [
       "\\begin{tabular}{r|l}\n",
       "  & LD1\\\\\n",
       "\\hline\n",
       "\tincome &  3.370464e-06\\\\\n",
       "\tbalance &  2.243630e-03\\\\\n",
       "\tstudentYes & -1.957734e-01\\\\\n",
       "\\end{tabular}\n"
      ],
      "text/markdown": [
       "\n",
       "| <!--/--> | LD1 |\n",
       "|---|---|\n",
       "| income |  3.370464e-06 |\n",
       "| balance |  2.243630e-03 |\n",
       "| studentYes | -1.957734e-01 |\n",
       "\n"
      ],
      "text/plain": [
       "           LD1          \n",
       "income      3.370464e-06\n",
       "balance     2.243630e-03\n",
       "studentYes -1.957734e-01"
      ]
     },
     "metadata": {},
     "output_type": "display_data"
    }
   ],
   "source": [
    "coef(lda.fit)"
   ]
  },
  {
   "cell_type": "code",
   "execution_count": 370,
   "metadata": {},
   "outputs": [],
   "source": [
    "#create a confusion matrix"
   ]
  },
  {
   "cell_type": "code",
   "execution_count": 371,
   "metadata": {},
   "outputs": [],
   "source": [
    "lda.pred <- predict(lda.fit, Default[-train,])\n",
    "#lda.pred$class"
   ]
  },
  {
   "cell_type": "code",
   "execution_count": 372,
   "metadata": {},
   "outputs": [
    {
     "data": {
      "text/plain": [
       "     true\n",
       "pred    No  Yes\n",
       "  No  1916   54\n",
       "  Yes    8   22"
      ]
     },
     "metadata": {},
     "output_type": "display_data"
    }
   ],
   "source": [
    "confusionmatrix_lda <- table(data.frame(pred=lda.pred$class, true=Default[-train,]$default))\n",
    "confusionmatrix_lda"
   ]
  },
  {
   "cell_type": "code",
   "execution_count": 373,
   "metadata": {},
   "outputs": [],
   "source": [
    "#calculate precision, recall and F1-score"
   ]
  },
  {
   "cell_type": "code",
   "execution_count": 374,
   "metadata": {
    "scrolled": true
   },
   "outputs": [
    {
     "data": {
      "text/html": [
       "0.733333333333333"
      ],
      "text/latex": [
       "0.733333333333333"
      ],
      "text/markdown": [
       "0.733333333333333"
      ],
      "text/plain": [
       "[1] 0.7333333"
      ]
     },
     "metadata": {},
     "output_type": "display_data"
    }
   ],
   "source": [
    "precision_lda <- confusionmatrix_lda[2,2] / sum(table(data.frame(lda.pred$class, Default[-train,]$default))[2,])\n",
    "precision_lda"
   ]
  },
  {
   "cell_type": "code",
   "execution_count": 375,
   "metadata": {},
   "outputs": [
    {
     "data": {
      "text/html": [
       "0.289473684210526"
      ],
      "text/latex": [
       "0.289473684210526"
      ],
      "text/markdown": [
       "0.289473684210526"
      ],
      "text/plain": [
       "[1] 0.2894737"
      ]
     },
     "metadata": {},
     "output_type": "display_data"
    }
   ],
   "source": [
    "recall_lda <- confusionmatrix_lda[2,2] / sum(table(data.frame(lda.pred$class, Default[-train,]$default))[,2])\n",
    "recall_lda \n"
   ]
  },
  {
   "cell_type": "code",
   "execution_count": 376,
   "metadata": {},
   "outputs": [
    {
     "data": {
      "text/html": [
       "0.415094339622642"
      ],
      "text/latex": [
       "0.415094339622642"
      ],
      "text/markdown": [
       "0.415094339622642"
      ],
      "text/plain": [
       "[1] 0.4150943"
      ]
     },
     "metadata": {},
     "output_type": "display_data"
    }
   ],
   "source": [
    "F1score_lda <- 2*precision_lda*recall_lda/(precision_lda+recall_lda)\n",
    "F1score_lda"
   ]
  },
  {
   "cell_type": "code",
   "execution_count": null,
   "metadata": {},
   "outputs": [],
   "source": []
  },
  {
   "cell_type": "code",
   "execution_count": null,
   "metadata": {},
   "outputs": [],
   "source": []
  },
  {
   "cell_type": "code",
   "execution_count": null,
   "metadata": {},
   "outputs": [],
   "source": []
  },
  {
   "cell_type": "markdown",
   "metadata": {},
   "source": [
    "# QDA"
   ]
  },
  {
   "cell_type": "code",
   "execution_count": 377,
   "metadata": {},
   "outputs": [],
   "source": [
    "qda.fit <- qda(default ~ income + balance + student, data = Default, subset = train)"
   ]
  },
  {
   "cell_type": "code",
   "execution_count": 378,
   "metadata": {},
   "outputs": [],
   "source": [
    "qda.pred <- predict(qda.fit, Default[-train,])"
   ]
  },
  {
   "cell_type": "code",
   "execution_count": 379,
   "metadata": {},
   "outputs": [
    {
     "data": {
      "text/plain": [
       "     true\n",
       "pred    No  Yes\n",
       "  No  1916   52\n",
       "  Yes    8   24"
      ]
     },
     "metadata": {},
     "output_type": "display_data"
    }
   ],
   "source": [
    "confusionmatrix_qda <- table(data.frame(pred=qda.pred$class, true=Default[-train,]$default))\n",
    "confusionmatrix_qda"
   ]
  },
  {
   "cell_type": "code",
   "execution_count": 380,
   "metadata": {},
   "outputs": [],
   "source": [
    "#discuss the relevance of predictors"
   ]
  },
  {
   "cell_type": "code",
   "execution_count": null,
   "metadata": {},
   "outputs": [],
   "source": []
  },
  {
   "cell_type": "code",
   "execution_count": 381,
   "metadata": {},
   "outputs": [],
   "source": [
    "#create a confusion matrix"
   ]
  },
  {
   "cell_type": "code",
   "execution_count": null,
   "metadata": {},
   "outputs": [],
   "source": []
  },
  {
   "cell_type": "code",
   "execution_count": 382,
   "metadata": {},
   "outputs": [],
   "source": [
    "qda.pred <- predict(qda.fit, Default[-train,])"
   ]
  },
  {
   "cell_type": "code",
   "execution_count": 383,
   "metadata": {},
   "outputs": [
    {
     "data": {
      "text/plain": [
       "     true\n",
       "pred    No  Yes\n",
       "  No  1916   52\n",
       "  Yes    8   24"
      ]
     },
     "metadata": {},
     "output_type": "display_data"
    }
   ],
   "source": [
    "confusionmatrix_qda <- table(data.frame(pred=qda.pred$class, true=Default[-train,]$default))\n",
    "confusionmatrix_qda"
   ]
  },
  {
   "cell_type": "code",
   "execution_count": null,
   "metadata": {},
   "outputs": [],
   "source": []
  },
  {
   "cell_type": "code",
   "execution_count": null,
   "metadata": {
    "scrolled": true
   },
   "outputs": [],
   "source": []
  },
  {
   "cell_type": "code",
   "execution_count": 384,
   "metadata": {},
   "outputs": [],
   "source": [
    "#calculate precision, recall and F1-score"
   ]
  },
  {
   "cell_type": "code",
   "execution_count": 385,
   "metadata": {},
   "outputs": [
    {
     "data": {
      "text/html": [
       "0.75"
      ],
      "text/latex": [
       "0.75"
      ],
      "text/markdown": [
       "0.75"
      ],
      "text/plain": [
       "[1] 0.75"
      ]
     },
     "metadata": {},
     "output_type": "display_data"
    }
   ],
   "source": [
    "precision_qda <- confusionmatrix_qda[2,2] / sum(table(data.frame(qda.pred$class, Default[-train,]$default))[2,])\n",
    "precision_qda"
   ]
  },
  {
   "cell_type": "code",
   "execution_count": 386,
   "metadata": {},
   "outputs": [
    {
     "data": {
      "text/html": [
       "0.315789473684211"
      ],
      "text/latex": [
       "0.315789473684211"
      ],
      "text/markdown": [
       "0.315789473684211"
      ],
      "text/plain": [
       "[1] 0.3157895"
      ]
     },
     "metadata": {},
     "output_type": "display_data"
    }
   ],
   "source": [
    "recall_qda <- confusionmatrix_qda[2,2] / sum(table(data.frame(qda.pred$class, Default[-train,]$default))[,2])\n",
    "recall_qda \n"
   ]
  },
  {
   "cell_type": "code",
   "execution_count": 389,
   "metadata": {},
   "outputs": [
    {
     "data": {
      "text/html": [
       "0.444444444444444"
      ],
      "text/latex": [
       "0.444444444444444"
      ],
      "text/markdown": [
       "0.444444444444444"
      ],
      "text/plain": [
       "[1] 0.4444444"
      ]
     },
     "metadata": {},
     "output_type": "display_data"
    }
   ],
   "source": [
    "F1score_qda <- 2*precision_qda*recall_qda/(precision_qda+recall_qda)\n",
    "F1score_qda"
   ]
  },
  {
   "cell_type": "code",
   "execution_count": null,
   "metadata": {},
   "outputs": [],
   "source": []
  },
  {
   "cell_type": "markdown",
   "metadata": {},
   "source": [
    "# KNN"
   ]
  },
  {
   "cell_type": "code",
   "execution_count": 390,
   "metadata": {},
   "outputs": [],
   "source": [
    "train_knn = cbind(Default$income, Default$balance, Default$student)[train,]\n",
    "test_knn = cbind(Default$income, Default$balance, Default$student)[-train,]\n",
    "train.default = Default$default[train]"
   ]
  },
  {
   "cell_type": "code",
   "execution_count": null,
   "metadata": {},
   "outputs": [],
   "source": []
  },
  {
   "cell_type": "code",
   "execution_count": null,
   "metadata": {},
   "outputs": [],
   "source": [
    "#discuss the relevance of predictors"
   ]
  },
  {
   "cell_type": "code",
   "execution_count": null,
   "metadata": {},
   "outputs": [],
   "source": []
  },
  {
   "cell_type": "code",
   "execution_count": null,
   "metadata": {},
   "outputs": [],
   "source": [
    "#create a confusion matrix"
   ]
  },
  {
   "cell_type": "code",
   "execution_count": 391,
   "metadata": {},
   "outputs": [],
   "source": [
    "set.seed(3)\n",
    "knn.pred = knn(train_knn, test_knn, train.default, k = 3)"
   ]
  },
  {
   "cell_type": "code",
   "execution_count": 392,
   "metadata": {},
   "outputs": [
    {
     "data": {
      "text/plain": [
       "     true\n",
       "pred    No  Yes\n",
       "  No  1907   60\n",
       "  Yes   17   16"
      ]
     },
     "metadata": {},
     "output_type": "display_data"
    }
   ],
   "source": [
    "confusionmatrix_knn <- table(data.frame(pred=knn.pred, true=Default[-train,]$default))\n",
    "confusionmatrix_knn"
   ]
  },
  {
   "cell_type": "code",
   "execution_count": null,
   "metadata": {},
   "outputs": [],
   "source": []
  },
  {
   "cell_type": "code",
   "execution_count": null,
   "metadata": {},
   "outputs": [],
   "source": []
  },
  {
   "cell_type": "code",
   "execution_count": 393,
   "metadata": {},
   "outputs": [],
   "source": [
    "#calculate precision, recall and F1-score"
   ]
  },
  {
   "cell_type": "code",
   "execution_count": 394,
   "metadata": {},
   "outputs": [
    {
     "data": {
      "text/html": [
       "0.484848484848485"
      ],
      "text/latex": [
       "0.484848484848485"
      ],
      "text/markdown": [
       "0.484848484848485"
      ],
      "text/plain": [
       "[1] 0.4848485"
      ]
     },
     "metadata": {},
     "output_type": "display_data"
    }
   ],
   "source": [
    "precision_knn <- confusionmatrix_knn[2,2] / sum(confusionmatrix_knn[2,])\n",
    "precision_knn"
   ]
  },
  {
   "cell_type": "code",
   "execution_count": 395,
   "metadata": {},
   "outputs": [
    {
     "data": {
      "text/html": [
       "0.210526315789474"
      ],
      "text/latex": [
       "0.210526315789474"
      ],
      "text/markdown": [
       "0.210526315789474"
      ],
      "text/plain": [
       "[1] 0.2105263"
      ]
     },
     "metadata": {},
     "output_type": "display_data"
    }
   ],
   "source": [
    "recall_knn <- confusionmatrix_knn[2,2] / sum(confusionmatrix_knn[,2])\n",
    "recall_knn "
   ]
  },
  {
   "cell_type": "code",
   "execution_count": 396,
   "metadata": {},
   "outputs": [
    {
     "data": {
      "text/html": [
       "0.293577981651376"
      ],
      "text/latex": [
       "0.293577981651376"
      ],
      "text/markdown": [
       "0.293577981651376"
      ],
      "text/plain": [
       "[1] 0.293578"
      ]
     },
     "metadata": {},
     "output_type": "display_data"
    }
   ],
   "source": [
    "F1score_knn <- 2*precision_knn*recall_knn/(precision_knn+recall_knn)\n",
    "F1score_knn"
   ]
  },
  {
   "cell_type": "code",
   "execution_count": null,
   "metadata": {},
   "outputs": [],
   "source": []
  },
  {
   "cell_type": "code",
   "execution_count": null,
   "metadata": {},
   "outputs": [],
   "source": []
  },
  {
   "cell_type": "markdown",
   "metadata": {},
   "source": [
    "#### discuss differences between the approaches"
   ]
  },
  {
   "cell_type": "code",
   "execution_count": null,
   "metadata": {},
   "outputs": [],
   "source": []
  },
  {
   "cell_type": "markdown",
   "metadata": {},
   "source": [
    "#### take the best approach and compare it with its own using a 10-fold \t\tcross-validation approach"
   ]
  },
  {
   "cell_type": "code",
   "execution_count": 414,
   "metadata": {},
   "outputs": [
    {
     "data": {
      "text/html": [
       "0.045589755213344"
      ],
      "text/latex": [
       "0.045589755213344"
      ],
      "text/markdown": [
       "0.045589755213344"
      ],
      "text/plain": [
       "[1] 0.04558976"
      ]
     },
     "metadata": {},
     "output_type": "display_data"
    }
   ],
   "source": [
    "glm.fit <- glm(default ~ income + balance + student, data = Default, subset = train, family = \"binomial\")\n",
    "cv.err <- cv.glm(Default[-train,], glm.fit, K=10)\n",
    "cv.err$delta[1]"
   ]
  },
  {
   "cell_type": "code",
   "execution_count": 404,
   "metadata": {},
   "outputs": [],
   "source": []
  },
  {
   "cell_type": "code",
   "execution_count": 2,
   "metadata": {
    "scrolled": true
   },
   "outputs": [
    {
     "name": "stderr",
     "output_type": "stream",
     "text": [
      "Warning message:\n",
      "\"package 'dplyr' was built under R version 3.6.3\"\n",
      "Attaching package: 'dplyr'\n",
      "\n",
      "The following object is masked from 'package:MASS':\n",
      "\n",
      "    select\n",
      "\n",
      "The following objects are masked from 'package:stats':\n",
      "\n",
      "    filter, lag\n",
      "\n",
      "The following objects are masked from 'package:base':\n",
      "\n",
      "    intersect, setdiff, setequal, union\n",
      "\n"
     ]
    }
   ],
   "source": []
  }
 ],
 "metadata": {
  "kernelspec": {
   "display_name": "R",
   "language": "R",
   "name": "ir"
  },
  "language_info": {
   "codemirror_mode": "r",
   "file_extension": ".r",
   "mimetype": "text/x-r-source",
   "name": "R",
   "pygments_lexer": "r",
   "version": "3.6.1"
  }
 },
 "nbformat": 4,
 "nbformat_minor": 4
}
