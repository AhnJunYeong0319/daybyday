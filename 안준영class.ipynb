{
 "cells": [
  {
   "cell_type": "code",
   "execution_count": 2,
   "metadata": {},
   "outputs": [
    {
     "name": "stdout",
     "output_type": "stream",
     "text": [
      "안녕!\n"
     ]
    }
   ],
   "source": [
    "class Person:\n",
    "    def say_hello(self):\n",
    "        print(\"안녕!\")\n",
    "        \n",
    "p = Person()\n",
    "p.say_hello()"
   ]
  },
  {
   "cell_type": "code",
   "execution_count": 3,
   "metadata": {},
   "outputs": [
    {
     "name": "stdout",
     "output_type": "stream",
     "text": [
      "안녕! 나는준영\n"
     ]
    }
   ],
   "source": [
    "class Person:\n",
    "    name = '준영'\n",
    "    \n",
    "    def say_hello(self):\n",
    "        print(\"안녕! 나는\" + self.name)\n",
    "        \n",
    "p = Person()\n",
    "p.say_hello()"
   ]
  },
  {
   "cell_type": "code",
   "execution_count": 6,
   "metadata": {},
   "outputs": [
    {
     "name": "stdout",
     "output_type": "stream",
     "text": [
      "안녕! 나는준영\n",
      "안녕! 나는낙준\n",
      "안녕! 나는정민\n"
     ]
    }
   ],
   "source": [
    "class Person:\n",
    "    def __init__(self, name):\n",
    "        self.name = name\n",
    "    \n",
    "    def say_hello(self):\n",
    "        print(\"안녕! 나는\" + self.name)\n",
    "        \n",
    "Jun = Person(\"준영\")\n",
    "Nak = Person(\"낙준\")\n",
    "Jung = Person(\"정민\")\n",
    "\n",
    "Jun.say_hello()\n",
    "Nak.say_hello()\n",
    "Jung.say_hello()"
   ]
  },
  {
   "cell_type": "code",
   "execution_count": 11,
   "metadata": {},
   "outputs": [
    {
     "name": "stdout",
     "output_type": "stream",
     "text": [
      "안녕 정우! 나는 준영\n",
      "안녕 광덕! 나는 낙준\n",
      "안녕 공덕! 나는 정민\n"
     ]
    }
   ],
   "source": [
    "class Person:\n",
    "    def __init__(self, name):\n",
    "        self.name = name\n",
    "    \n",
    "    def say_hello(self, to_name):\n",
    "        print(\"안녕 \" + to_name + \"!\"+ \" 나는 \" + self.name)\n",
    "        \n",
    "Jun = Person(\"준영\")\n",
    "Nak = Person(\"낙준\")\n",
    "Jung = Person(\"정민\")\n",
    "\n",
    "Jun.say_hello(\"정우\")\n",
    "Nak.say_hello(\"광덕\")\n",
    "Jung.say_hello(\"공덕\")"
   ]
  },
  {
   "cell_type": "code",
   "execution_count": null,
   "metadata": {
    "scrolled": true
   },
   "outputs": [],
   "source": []
  }
 ],
 "metadata": {
  "kernelspec": {
   "display_name": "Python 3",
   "language": "python",
   "name": "python3"
  },
  "language_info": {
   "codemirror_mode": {
    "name": "ipython",
    "version": 3
   },
   "file_extension": ".py",
   "mimetype": "text/x-python",
   "name": "python",
   "nbconvert_exporter": "python",
   "pygments_lexer": "ipython3",
   "version": "3.8.3"
  }
 },
 "nbformat": 4,
 "nbformat_minor": 4
}
