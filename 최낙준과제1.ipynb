{
 "cells": [
  {
   "cell_type": "code",
   "execution_count": 1,
   "metadata": {},
   "outputs": [
    {
     "name": "stdout",
     "output_type": "stream",
     "text": [
      "최낙용\n",
      "최낙준\n",
      "break\n",
      "['최낙용', '최낙준']\n",
      "2\n"
     ]
    }
   ],
   "source": [
    "x = []\n",
    "cnt = 0\n",
    "while True:\n",
    "    b = input()\n",
    "    if b !='break' :\n",
    "        x.append(b)\n",
    "        cnt += 1\n",
    "        if len(x) > 4:\n",
    "            print('구성원을 줄이세요')\n",
    "        else:\n",
    "            b = b\n",
    "    \n",
    "    else :\n",
    "        print(x)\n",
    "        print(cnt)\n",
    "        break\n",
    "            "
   ]
  }
 ],
 "metadata": {
  "kernelspec": {
   "display_name": "Python 3",
   "language": "python",
   "name": "python3"
  },
  "language_info": {
   "codemirror_mode": {
    "name": "ipython",
    "version": 3
   },
   "file_extension": ".py",
   "mimetype": "text/x-python",
   "name": "python",
   "nbconvert_exporter": "python",
   "pygments_lexer": "ipython3",
   "version": "3.8.3"
  }
 },
 "nbformat": 4,
 "nbformat_minor": 4
}
